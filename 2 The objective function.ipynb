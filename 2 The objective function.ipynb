{
 "cells": [
  {
   "cell_type": "code",
   "execution_count": 2,
   "metadata": {},
   "outputs": [],
   "source": [
    "%matplotlib inline\n",
    "import numpy as np\n",
    "from matplotlib import pyplot as plt"
   ]
  },
  {
   "cell_type": "markdown",
   "metadata": {},
   "source": [
    "# Exercise 4"
   ]
  },
  {
   "cell_type": "markdown",
   "metadata": {},
   "source": [
    "$$\\ln \\mathcal{L} = K-\\sum_{i=0}^{N}\\frac{(T-t_i)^2}{2 \\sigma_{ti}^2}$$\n",
    "$$\\frac{\\textrm{d} \\ln \\mathcal{L}}{\\textrm{d} t} = \\sum_{i=0}^{N}\\frac{(T-t_i)}{\\sigma_{ti}^2}$$\n",
    "Optimization:\n",
    "\n",
    "\n",
    "$$\\sum_{i=0}^{N}\\frac{T_{\\textrm{opt}}}{\\sigma_{ti}^2}=\\sum_{i=0}^{N}\\frac{t_i}{\\sigma_{ti}^2}$$\n",
    "$$T_{\\textrm{opt}}\\sum_{i=0}^{N}\\frac{1}{\\sigma_{ti}^2}=\\sum_{i=0}^{N}\\frac{t_i}{\\sigma_{ti}^2}$$\n",
    "$$T_{\\textrm{opt}}=\\frac{1}{\\sum_{i=0}^{N}\\frac{1}{\\sigma_{ti}^2}}\\sum_{i=0}^{N}\\frac{t_i}{\\sigma_{ti}^2}$$\n",
    "$$T_{\\textrm{opt}}=\\frac{\\prod_{i=0}^{N}\\sigma_{ti}^2}{\\sum_{i=0}^{N}(\\prod_{j=0, j\\neq=i}^{N}\\sigma_{ti}^2\\sigma_{tj}^2)}\\sum_{i=0}^{N}\\frac{t_i}{\\sigma_{ti}^2}$$\n",
    "$$T_{\\textrm{opt}}=\\frac{\\prod_{i=0}^{N}\\sigma_{ti}^2}{\\sum_{i=0}^{N}(\\prod_{j=0, j\\neq i}^{N}\\sigma_{ti}^2\\sigma_{tj}^2)}\\sum_{i=0}^{N}\\frac{t_i\\prod_{j=0, j\\neq i}^{N}(\\sigma_{ti}^2\\sigma_{tj}^2)}{\\prod_{i=0}^{N}\\sigma_{ti}^2}$$\n",
    "\n",
    "$$T_{\\textrm{opt}}=\\frac{\\sum_{i=0}^{N}t_i\\prod_{j=0, j\\neq i}^{N}(\\sigma_{ti}^2\\sigma_{tj}^2)}{\\sum_{i=0}^{N}\\prod_{j=0, j\\neq i}^{N}(\\sigma_{ti}^2\\sigma_{tj}^2)}$$\n",
    "\n",
    "Hence,\n",
    "\n",
    "$$\\prod_{j=0, j\\neq i}^{N}(\\sigma_{ti}^2\\sigma_{tj}^2)$$\n",
    "is the expression for weights in this weighted mean."
   ]
  },
  {
   "cell_type": "code",
   "execution_count": null,
   "metadata": {},
   "outputs": [],
   "source": []
  }
 ],
 "metadata": {
  "kernelspec": {
   "display_name": "Python 3",
   "language": "python",
   "name": "python3"
  },
  "language_info": {
   "codemirror_mode": {
    "name": "ipython",
    "version": 3
   },
   "file_extension": ".py",
   "mimetype": "text/x-python",
   "name": "python",
   "nbconvert_exporter": "python",
   "pygments_lexer": "ipython3",
   "version": "3.7.4"
  }
 },
 "nbformat": 4,
 "nbformat_minor": 2
}
